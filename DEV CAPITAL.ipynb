{
 "cells": [
  {
   "cell_type": "code",
   "execution_count": 1,
   "metadata": {},
   "outputs": [],
   "source": [
    "import numpy as np # linear algebra\n",
    "import pandas as pd # data processing, CSV file I/O (e.g. pd.read_csv)\n",
    "import seaborn as sns\n",
    "import matplotlib.pyplot as plt\n"
   ]
  },
  {
   "cell_type": "code",
   "execution_count": 7,
   "metadata": {},
   "outputs": [],
   "source": [
    "df = pd.read_csv('/home/andy/somefilename.csv')"
   ]
  },
  {
   "cell_type": "code",
   "execution_count": 3,
   "metadata": {},
   "outputs": [
    {
     "data": {
      "text/html": [
       "<div>\n",
       "<style scoped>\n",
       "    .dataframe tbody tr th:only-of-type {\n",
       "        vertical-align: middle;\n",
       "    }\n",
       "\n",
       "    .dataframe tbody tr th {\n",
       "        vertical-align: top;\n",
       "    }\n",
       "\n",
       "    .dataframe thead th {\n",
       "        text-align: right;\n",
       "    }\n",
       "</style>\n",
       "<table border=\"1\" class=\"dataframe\">\n",
       "  <thead>\n",
       "    <tr style=\"text-align: right;\">\n",
       "      <th></th>\n",
       "      <th>Agente</th>\n",
       "      <th>Cliente</th>\n",
       "      <th>Producto</th>\n",
       "      <th>Periodo</th>\n",
       "      <th>Fecha</th>\n",
       "      <th>Valido</th>\n",
       "    </tr>\n",
       "  </thead>\n",
       "  <tbody>\n",
       "    <tr>\n",
       "      <th>0</th>\n",
       "      <td>Carlos</td>\n",
       "      <td>Helga Paola</td>\n",
       "      <td>Term 100</td>\n",
       "      <td>NaN</td>\n",
       "      <td>2018-01-15 20:56:29+00:00</td>\n",
       "      <td>False</td>\n",
       "    </tr>\n",
       "    <tr>\n",
       "      <th>1</th>\n",
       "      <td>Carlos</td>\n",
       "      <td>Nicola Fortunato</td>\n",
       "      <td>Term 100</td>\n",
       "      <td>NaN</td>\n",
       "      <td>2018-01-15 21:02:12+00:00</td>\n",
       "      <td>False</td>\n",
       "    </tr>\n",
       "    <tr>\n",
       "      <th>2</th>\n",
       "      <td>Fernando</td>\n",
       "      <td>Marcelo</td>\n",
       "      <td>S&amp;P 500 Index</td>\n",
       "      <td>NaN</td>\n",
       "      <td>2018-01-16 14:43:38+00:00</td>\n",
       "      <td>True</td>\n",
       "    </tr>\n",
       "    <tr>\n",
       "      <th>3</th>\n",
       "      <td>Carlos</td>\n",
       "      <td>Juan Carlos</td>\n",
       "      <td>Index Select</td>\n",
       "      <td>NaN</td>\n",
       "      <td>2018-01-19 04:16:47+00:00</td>\n",
       "      <td>False</td>\n",
       "    </tr>\n",
       "    <tr>\n",
       "      <th>4</th>\n",
       "      <td>Carlos</td>\n",
       "      <td>Wilder</td>\n",
       "      <td>Index Max</td>\n",
       "      <td>NaN</td>\n",
       "      <td>2018-01-19 04:24:46+00:00</td>\n",
       "      <td>False</td>\n",
       "    </tr>\n",
       "  </tbody>\n",
       "</table>\n",
       "</div>"
      ],
      "text/plain": [
       "     Agente           Cliente       Producto Periodo  \\\n",
       "0    Carlos       Helga Paola       Term 100     NaN   \n",
       "1    Carlos  Nicola Fortunato       Term 100     NaN   \n",
       "2  Fernando           Marcelo  S&P 500 Index     NaN   \n",
       "3    Carlos       Juan Carlos   Index Select     NaN   \n",
       "4    Carlos            Wilder      Index Max     NaN   \n",
       "\n",
       "                       Fecha Valido  \n",
       "0  2018-01-15 20:56:29+00:00  False  \n",
       "1  2018-01-15 21:02:12+00:00  False  \n",
       "2  2018-01-16 14:43:38+00:00   True  \n",
       "3  2018-01-19 04:16:47+00:00  False  \n",
       "4  2018-01-19 04:24:46+00:00  False  "
      ]
     },
     "execution_count": 3,
     "metadata": {},
     "output_type": "execute_result"
    }
   ],
   "source": [
    "df.head()"
   ]
  },
  {
   "cell_type": "code",
   "execution_count": 4,
   "metadata": {},
   "outputs": [
    {
     "data": {
      "text/plain": [
       "Periodo\n",
       "Julio  2018 Peru          4533\n",
       "Junio  2018                780\n",
       "Diciembre 2018 Ecuador     556\n",
       "Octubre 2018 - Ecuador     550\n",
       "Enero 2019 Ecuador         492\n",
       "Noviembre 2018 Ecuador     454\n",
       "Agosto  2018  Ecuador      410\n",
       "Setiembre 2018 Ecuador     400\n",
       "Diciembre 2018 Peru        318\n",
       "Enero 2019 Peru            290\n",
       "Octubre 2018 - Peru        285\n",
       "Agosto 2018  Peru          277\n",
       "Noviembre 2018 Peru        264\n",
       "Setiembre 2018 Peru        207\n",
       "dtype: int64"
      ]
     },
     "execution_count": 4,
     "metadata": {},
     "output_type": "execute_result"
    }
   ],
   "source": [
    "df.groupby('Periodo').size().sort_values(ascending=False)"
   ]
  },
  {
   "cell_type": "code",
   "execution_count": 5,
   "metadata": {},
   "outputs": [],
   "source": [
    "\n",
    "\n",
    "df1=df[(df['Periodo'].isnull()) & (df['Valido']==True) ].groupby(['Cliente','Producto','Agente']).size().sort_values(ascending=False)\n"
   ]
  },
  {
   "cell_type": "code",
   "execution_count": 8,
   "metadata": {},
   "outputs": [
    {
     "data": {
      "text/plain": [
       "<matplotlib.axes._subplots.AxesSubplot at 0x7f20830ba650>"
      ]
     },
     "execution_count": 8,
     "metadata": {},
     "output_type": "execute_result"
    },
    {
     "data": {
      "image/png": "[encoded data removed]",
      "text/plain": [
       "<Figure size 432x288 with 1 Axes>"
      ]
     },
     "metadata": {},
     "output_type": "display_data"
    }
   ],
   "source": [
    "sns.countplot(df1)"
   ]
  },
  {
   "cell_type": "code",
   "execution_count": 9,
   "metadata": {},
   "outputs": [
    {
     "data": {
      "text/plain": [
       "<matplotlib.axes._subplots.AxesSubplot at 0x7f208304d410>"
      ]
     },
     "execution_count": 9,
     "metadata": {},
     "output_type": "execute_result"
    },
    {
     "data": {
      "image/png": "[encoded data removed]",
      "text/plain": [
       "<Figure size 1080x504 with 1 Axes>"
      ]
     },
     "metadata": {},
     "output_type": "display_data"
    }
   ],
   "source": [
    "fig, ax = plt.subplots(figsize=(15,7))\n",
    "df1.plot(ax=ax)"
   ]
  },
  {
   "cell_type": "code",
   "execution_count": 27,
   "metadata": {},
   "outputs": [],
   "source": [
    "df['Prima Anual'].describe()\n",
    "df['Prima Anual'].fillna(0,inplace=True)"
   ]
  },
  {
   "cell_type": "code",
   "execution_count": 25,
   "metadata": {},
   "outputs": [
    {
     "data": {
      "text/html": [
       "<div>\n",
       "<style scoped>\n",
       "    .dataframe tbody tr th:only-of-type {\n",
       "        vertical-align: middle;\n",
       "    }\n",
       "\n",
       "    .dataframe tbody tr th {\n",
       "        vertical-align: top;\n",
       "    }\n",
       "\n",
       "    .dataframe thead th {\n",
       "        text-align: right;\n",
       "    }\n",
       "</style>\n",
       "<table border=\"1\" class=\"dataframe\">\n",
       "  <thead>\n",
       "    <tr style=\"text-align: right;\">\n",
       "      <th></th>\n",
       "      <th>ID</th>\n",
       "      <th>Fecha</th>\n",
       "      <th>Prima Anual</th>\n",
       "      <th>Poliza</th>\n",
       "      <th>Periodo</th>\n",
       "      <th>Inforce</th>\n",
       "    </tr>\n",
       "  </thead>\n",
       "  <tbody>\n",
       "    <tr>\n",
       "      <th>0</th>\n",
       "      <td>18330</td>\n",
       "      <td>2013-12-23 00:00:00+00:00</td>\n",
       "      <td>0.0</td>\n",
       "      <td>PAID UP</td>\n",
       "      <td>Junio  2018</td>\n",
       "      <td>False</td>\n",
       "    </tr>\n",
       "    <tr>\n",
       "      <th>1</th>\n",
       "      <td>18331</td>\n",
       "      <td>2013-12-23 00:00:00+00:00</td>\n",
       "      <td>0.0</td>\n",
       "      <td>PAID UP</td>\n",
       "      <td>Junio  2018</td>\n",
       "      <td>False</td>\n",
       "    </tr>\n",
       "    <tr>\n",
       "      <th>2</th>\n",
       "      <td>18332</td>\n",
       "      <td>2015-12-19 00:00:00+00:00</td>\n",
       "      <td>0.0</td>\n",
       "      <td>ACTIVA</td>\n",
       "      <td>Junio  2018</td>\n",
       "      <td>False</td>\n",
       "    </tr>\n",
       "    <tr>\n",
       "      <th>3</th>\n",
       "      <td>18333</td>\n",
       "      <td>2015-12-19 00:00:00+00:00</td>\n",
       "      <td>0.0</td>\n",
       "      <td>ACTIVA</td>\n",
       "      <td>Junio  2018</td>\n",
       "      <td>False</td>\n",
       "    </tr>\n",
       "    <tr>\n",
       "      <th>4</th>\n",
       "      <td>18334</td>\n",
       "      <td>2015-12-01 00:00:00+00:00</td>\n",
       "      <td>0.0</td>\n",
       "      <td>ACTIVA</td>\n",
       "      <td>Junio  2018</td>\n",
       "      <td>False</td>\n",
       "    </tr>\n",
       "  </tbody>\n",
       "</table>\n",
       "</div>"
      ],
      "text/plain": [
       "      ID                      Fecha  Prima Anual   Poliza      Periodo Inforce\n",
       "0  18330  2013-12-23 00:00:00+00:00          0.0  PAID UP  Junio  2018   False\n",
       "1  18331  2013-12-23 00:00:00+00:00          0.0  PAID UP  Junio  2018   False\n",
       "2  18332  2015-12-19 00:00:00+00:00          0.0   ACTIVA  Junio  2018   False\n",
       "3  18333  2015-12-19 00:00:00+00:00          0.0   ACTIVA  Junio  2018   False\n",
       "4  18334  2015-12-01 00:00:00+00:00          0.0   ACTIVA  Junio  2018   False"
      ]
     },
     "execution_count": 25,
     "metadata": {},
     "output_type": "execute_result"
    }
   ],
   "source": [
    "df.head()"
   ]
  },
  {
   "cell_type": "code",
   "execution_count": 30,
   "metadata": {},
   "outputs": [
    {
     "data": {
      "text/plain": [
       "Prima Anual\n",
       "0.00         11792\n",
       "2400.00        397\n",
       "1200.00        278\n",
       "3000.00        233\n",
       "3600.00        232\n",
       "1800.00        200\n",
       "6000.00        188\n",
       "1500.00         88\n",
       "2000.00         77\n",
       "1000.00         51\n",
       "12000.00        50\n",
       "5000.00         49\n",
       "278.00          34\n",
       "4800.00         34\n",
       "7200.00         32\n",
       "149.00          30\n",
       "2500.00         30\n",
       "10000.00        29\n",
       "1430.27         24\n",
       "4000.00         21\n",
       "900.00          21\n",
       "1400.00         20\n",
       "4200.00         19\n",
       "3500.00         18\n",
       "278.36          18\n",
       "9000.00         18\n",
       "1320.00         17\n",
       "20000.00        17\n",
       "373.00          17\n",
       "447.00          16\n",
       "             ...  \n",
       "3032.76          1\n",
       "2464.00          1\n",
       "2111.75          1\n",
       "7157.00          1\n",
       "2435.64          1\n",
       "2425.00          1\n",
       "1279.00          1\n",
       "1027.50          1\n",
       "2170.00          1\n",
       "5283.00          1\n",
       "2957.04          1\n",
       "2430.00          1\n",
       "479.00           1\n",
       "4340.00          1\n",
       "5259.00          1\n",
       "2715.00          1\n",
       "7464.20          1\n",
       "4400.00          1\n",
       "3755.00          1\n",
       "898.85           1\n",
       "4375.36          1\n",
       "444.00           1\n",
       "3737.84          1\n",
       "2448.00          1\n",
       "2128.00          1\n",
       "1377.00          1\n",
       "1051.11          1\n",
       "7841.52          1\n",
       "887.00           1\n",
       "885757.00        1\n",
       "Length: 2637, dtype: int64"
      ]
     },
     "execution_count": 30,
     "metadata": {},
     "output_type": "execute_result"
    }
   ],
   "source": [
    "df.groupby('Prima Anual').size().sort_values(ascending=False)"
   ]
  },
  {
   "cell_type": "code",
   "execution_count": null,
   "metadata": {},
   "outputs": [],
   "source": [
    "for s in range(df.shape(0)):\n",
    "    print df[s]"
   ]
  },
  {
   "cell_type": "code",
   "execution_count": 31,
   "metadata": {},
   "outputs": [
    {
     "ename": "TypeError",
     "evalue": "unsupported operand type(s) for +: 'float' and 'str'",
     "output_type": "error",
     "traceback": [
      "\u001b[0;31m---------------------------------------------------------------------------\u001b[0m",
      "\u001b[0;31mTypeError\u001b[0m                                 Traceback (most recent call last)",
      "\u001b[0;32m<ipython-input-31-979c4d01daf5>\u001b[0m in \u001b[0;36m<module>\u001b[0;34m()\u001b[0m\n\u001b[0;32m----> 1\u001b[0;31m \u001b[0msns\u001b[0m\u001b[0;34m.\u001b[0m\u001b[0mdistplot\u001b[0m\u001b[0;34m(\u001b[0m\u001b[0mdf\u001b[0m\u001b[0;34m[\u001b[0m\u001b[0mdf\u001b[0m\u001b[0;34m[\u001b[0m\u001b[0;34m'Prima Anual'\u001b[0m\u001b[0;34m]\u001b[0m\u001b[0;34m<\u001b[0m\u001b[0;36m200000\u001b[0m\u001b[0;34m]\u001b[0m\u001b[0;34m)\u001b[0m\u001b[0;34m\u001b[0m\u001b[0m\n\u001b[0m",
      "\u001b[0;32m/Library/Frameworks/Python.framework/Versions/3.6/lib/python3.6/site-packages/seaborn/distributions.py\u001b[0m in \u001b[0;36mdistplot\u001b[0;34m(a, bins, hist, kde, rug, fit, hist_kws, kde_kws, rug_kws, fit_kws, color, vertical, norm_hist, axlabel, label, ax)\u001b[0m\n\u001b[1;32m    196\u001b[0m             \u001b[0mline\u001b[0m\u001b[0;34m,\u001b[0m \u001b[0;34m=\u001b[0m \u001b[0max\u001b[0m\u001b[0;34m.\u001b[0m\u001b[0mplot\u001b[0m\u001b[0;34m(\u001b[0m\u001b[0;36m0\u001b[0m\u001b[0;34m,\u001b[0m \u001b[0ma\u001b[0m\u001b[0;34m.\u001b[0m\u001b[0mmean\u001b[0m\u001b[0;34m(\u001b[0m\u001b[0;34m)\u001b[0m\u001b[0;34m)\u001b[0m\u001b[0;34m\u001b[0m\u001b[0m\n\u001b[1;32m    197\u001b[0m         \u001b[0;32melse\u001b[0m\u001b[0;34m:\u001b[0m\u001b[0;34m\u001b[0m\u001b[0m\n\u001b[0;32m--> 198\u001b[0;31m             \u001b[0mline\u001b[0m\u001b[0;34m,\u001b[0m \u001b[0;34m=\u001b[0m \u001b[0max\u001b[0m\u001b[0;34m.\u001b[0m\u001b[0mplot\u001b[0m\u001b[0;34m(\u001b[0m\u001b[0ma\u001b[0m\u001b[0;34m.\u001b[0m\u001b[0mmean\u001b[0m\u001b[0;34m(\u001b[0m\u001b[0;34m)\u001b[0m\u001b[0;34m,\u001b[0m \u001b[0;36m0\u001b[0m\u001b[0;34m)\u001b[0m\u001b[0;34m\u001b[0m\u001b[0m\n\u001b[0m\u001b[1;32m    199\u001b[0m         \u001b[0mcolor\u001b[0m \u001b[0;34m=\u001b[0m \u001b[0mline\u001b[0m\u001b[0;34m.\u001b[0m\u001b[0mget_color\u001b[0m\u001b[0;34m(\u001b[0m\u001b[0;34m)\u001b[0m\u001b[0;34m\u001b[0m\u001b[0m\n\u001b[1;32m    200\u001b[0m         \u001b[0mline\u001b[0m\u001b[0;34m.\u001b[0m\u001b[0mremove\u001b[0m\u001b[0;34m(\u001b[0m\u001b[0;34m)\u001b[0m\u001b[0;34m\u001b[0m\u001b[0m\n",
      "\u001b[0;32m/Library/Frameworks/Python.framework/Versions/3.6/lib/python3.6/site-packages/numpy/core/_methods.py\u001b[0m in \u001b[0;36m_mean\u001b[0;34m(a, axis, dtype, out, keepdims)\u001b[0m\n\u001b[1;32m     73\u001b[0m             \u001b[0mis_float16_result\u001b[0m \u001b[0;34m=\u001b[0m \u001b[0;32mTrue\u001b[0m\u001b[0;34m\u001b[0m\u001b[0m\n\u001b[1;32m     74\u001b[0m \u001b[0;34m\u001b[0m\u001b[0m\n\u001b[0;32m---> 75\u001b[0;31m     \u001b[0mret\u001b[0m \u001b[0;34m=\u001b[0m \u001b[0mumr_sum\u001b[0m\u001b[0;34m(\u001b[0m\u001b[0marr\u001b[0m\u001b[0;34m,\u001b[0m \u001b[0maxis\u001b[0m\u001b[0;34m,\u001b[0m \u001b[0mdtype\u001b[0m\u001b[0;34m,\u001b[0m \u001b[0mout\u001b[0m\u001b[0;34m,\u001b[0m \u001b[0mkeepdims\u001b[0m\u001b[0;34m)\u001b[0m\u001b[0;34m\u001b[0m\u001b[0m\n\u001b[0m\u001b[1;32m     76\u001b[0m     \u001b[0;32mif\u001b[0m \u001b[0misinstance\u001b[0m\u001b[0;34m(\u001b[0m\u001b[0mret\u001b[0m\u001b[0;34m,\u001b[0m \u001b[0mmu\u001b[0m\u001b[0;34m.\u001b[0m\u001b[0mndarray\u001b[0m\u001b[0;34m)\u001b[0m\u001b[0;34m:\u001b[0m\u001b[0;34m\u001b[0m\u001b[0m\n\u001b[1;32m     77\u001b[0m         ret = um.true_divide(\n",
      "\u001b[0;31mTypeError\u001b[0m: unsupported operand type(s) for +: 'float' and 'str'"
     ]
    },
    {
     "data": {
      "image/png": "[encoded data removed]",
      "text/plain": [
       "<Figure size 432x288 with 1 Axes>"
      ]
     },
     "metadata": {},
     "output_type": "display_data"
    }
   ],
   "source": [
    "sns.distplot(df[df['Prima Anual']<200000])"
   ]
  },
  {
   "cell_type": "code",
   "execution_count": null,
   "metadata": {},
   "outputs": [],
   "source": []
  }
 ],
 "metadata": {
  "kernelspec": {
   "display_name": "Python 2",
   "language": "python",
   "name": "python2"
  },
  "language_info": {
   "codemirror_mode": {
    "name": "ipython",
    "version": 2
   },
   "file_extension": ".py",
   "mimetype": "text/x-python",
   "name": "python",
   "nbconvert_exporter": "python",
   "pygments_lexer": "ipython2",
   "version": "2.7.13"
  }
 },
 "nbformat": 4,
 "nbformat_minor": 2
}
